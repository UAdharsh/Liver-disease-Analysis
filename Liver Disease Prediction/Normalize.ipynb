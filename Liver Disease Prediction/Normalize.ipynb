{
 "cells": [
  {
   "cell_type": "code",
   "execution_count": 16,
   "id": "58a04359-debb-4ea0-81ee-3ae603f11a9e",
   "metadata": {},
   "outputs": [],
   "source": [
    "# Import Lib\n",
    "import pandas as pd\n",
    "from sklearn.preprocessing import MinMaxScaler\n",
    "import numpy as np\n"
   ]
  },
  {
   "cell_type": "code",
   "execution_count": 17,
   "id": "cb8dadb4-27f7-4450-86b6-fb7f86e3ba1a",
   "metadata": {},
   "outputs": [],
   "source": [
    "# Load the dataset with a specified encoding\n",
    "data = pd.read_csv('C:/Users/adhar/Jupiter notebook/Python/Data Analsis/Data-analysis/Liver Disease Prediction/Dataset/Liver Patient Dataset (LPD)_train.csv', encoding='ISO-8859-1')\n"
   ]
  },
  {
   "cell_type": "code",
   "execution_count": 18,
   "id": "1265cddc-308b-45da-895e-cf951c568544",
   "metadata": {},
   "outputs": [
    {
     "name": "stdout",
     "output_type": "stream",
     "text": [
      "   Age of the patient Gender of the patient  Total Bilirubin  \\\n",
      "0                65.0                Female              0.7   \n",
      "1                62.0                  Male             10.9   \n",
      "2                62.0                  Male              7.3   \n",
      "3                58.0                  Male              1.0   \n",
      "4                72.0                  Male              3.9   \n",
      "\n",
      "   Direct Bilirubin   Alkphos Alkaline Phosphotase  \\\n",
      "0               0.1                          187.0   \n",
      "1               5.5                          699.0   \n",
      "2               4.1                          490.0   \n",
      "3               0.4                          182.0   \n",
      "4               2.0                          195.0   \n",
      "\n",
      "    Sgpt Alamine Aminotransferase  Sgot Aspartate Aminotransferase  \\\n",
      "0                            16.0                             18.0   \n",
      "1                            64.0                            100.0   \n",
      "2                            60.0                             68.0   \n",
      "3                            14.0                             20.0   \n",
      "4                            27.0                             59.0   \n",
      "\n",
      "   Total Protiens   ALB Albumin  A/G Ratio Albumin and Globulin Ratio  Result  \n",
      "0             6.8           3.3                                  0.90       1  \n",
      "1             7.5           3.2                                  0.74       1  \n",
      "2             7.0           3.3                                  0.89       1  \n",
      "3             6.8           3.4                                  1.00       1  \n",
      "4             7.3           2.4                                  0.40       1  \n",
      "<class 'pandas.core.frame.DataFrame'>\n",
      "RangeIndex: 30691 entries, 0 to 30690\n",
      "Data columns (total 11 columns):\n",
      " #   Column                                Non-Null Count  Dtype  \n",
      "---  ------                                --------------  -----  \n",
      " 0   Age of the patient                    30689 non-null  float64\n",
      " 1   Gender of the patient                 29789 non-null  object \n",
      " 2   Total Bilirubin                       30043 non-null  float64\n",
      " 3   Direct Bilirubin                      30130 non-null  float64\n",
      " 4    Alkphos Alkaline Phosphotase         29895 non-null  float64\n",
      " 5    Sgpt Alamine Aminotransferase        30153 non-null  float64\n",
      " 6   Sgot Aspartate Aminotransferase       30229 non-null  float64\n",
      " 7   Total Protiens                        30228 non-null  float64\n",
      " 8    ALB Albumin                          30197 non-null  float64\n",
      " 9   A/G Ratio Albumin and Globulin Ratio  30132 non-null  float64\n",
      " 10  Result                                30691 non-null  int64  \n",
      "dtypes: float64(9), int64(1), object(1)\n",
      "memory usage: 2.6+ MB\n",
      "None\n"
     ]
    }
   ],
   "source": [
    "# Display the first few rows of the dataset\n",
    "print(data.head())\n",
    "\n",
    "# Check data types and for any missing values\n",
    "print(data.info())\n"
   ]
  },
  {
   "cell_type": "code",
   "execution_count": 19,
   "id": "a3deaf8c-92b9-4a81-b615-eb20a5cdce5b",
   "metadata": {},
   "outputs": [],
   "source": [
    "# Drop rows with missing values\n",
    "data.dropna(inplace=True)\n"
   ]
  },
  {
   "cell_type": "code",
   "execution_count": 20,
   "id": "ac1df3dd-f6c3-4dd9-8833-0ae5bfe174b8",
   "metadata": {},
   "outputs": [],
   "source": [
    "# Select numeric features (adjust based on your dataset)\n",
    "numeric_features = data.select_dtypes(include=[np.number]).columns.tolist()\n"
   ]
  },
  {
   "cell_type": "code",
   "execution_count": 21,
   "id": "ebac28f6-3732-4c23-a97a-3d9b56e78d10",
   "metadata": {},
   "outputs": [],
   "source": [
    "# Initialize MinMaxScaler\n",
    "scaler = MinMaxScaler()\n",
    "\n",
    "# Normalize the numeric features\n",
    "data[numeric_features] = scaler.fit_transform(data[numeric_features])\n"
   ]
  },
  {
   "cell_type": "code",
   "execution_count": 22,
   "id": "69cc25be-a032-44c0-b0fc-e4567243fc43",
   "metadata": {},
   "outputs": [
    {
     "name": "stdout",
     "output_type": "stream",
     "text": [
      "       Age of the patient  Total Bilirubin  Direct Bilirubin  \\\n",
      "count        27158.000000     27158.000000      27158.000000   \n",
      "mean             0.466570         0.040320          0.073553   \n",
      "std              0.185716         0.084886          0.147708   \n",
      "min              0.000000         0.000000          0.000000   \n",
      "25%              0.337209         0.005362          0.005102   \n",
      "50%              0.476744         0.008043          0.010204   \n",
      "75%              0.593023         0.030831          0.061224   \n",
      "max              1.000000         1.000000          1.000000   \n",
      "\n",
      "        Alkphos Alkaline Phosphotase   Sgpt Alamine Aminotransferase  \\\n",
      "count                   27158.000000                    27158.000000   \n",
      "mean                        0.110963                        0.035819   \n",
      "std                         0.117047                        0.091242   \n",
      "min                         0.000000                        0.000000   \n",
      "25%                         0.054714                        0.006533   \n",
      "50%                         0.071324                        0.013065   \n",
      "75%                         0.114802                        0.026131   \n",
      "max                         1.000000                        1.000000   \n",
      "\n",
      "       Sgot Aspartate Aminotransferase  Total Protiens   ALB Albumin  \\\n",
      "count                     27158.000000    27158.000000  27158.000000   \n",
      "mean                          0.020757        0.546754      0.483488   \n",
      "std                           0.057657        0.156736      0.172245   \n",
      "min                           0.000000        0.000000      0.000000   \n",
      "25%                           0.003253        0.449275      0.369565   \n",
      "50%                           0.006505        0.565217      0.478261   \n",
      "75%                           0.015857        0.652174      0.608696   \n",
      "max                           1.000000        1.000000      1.000000   \n",
      "\n",
      "       A/G Ratio Albumin and Globulin Ratio        Result  \n",
      "count                          27158.000000  27158.000000  \n",
      "mean                               0.257427      0.282790  \n",
      "std                                0.129682      0.450363  \n",
      "min                                0.000000      0.000000  \n",
      "25%                                0.160000      0.000000  \n",
      "50%                                0.240000      0.000000  \n",
      "75%                                0.320000      1.000000  \n",
      "max                                1.000000      1.000000  \n"
     ]
    }
   ],
   "source": [
    "# Display descriptive statistics of normalized data\n",
    "print(data[numeric_features].describe())\n"
   ]
  }
 ],
 "metadata": {
  "kernelspec": {
   "display_name": "Python 3 (ipykernel)",
   "language": "python",
   "name": "python3"
  },
  "language_info": {
   "codemirror_mode": {
    "name": "ipython",
    "version": 3
   },
   "file_extension": ".py",
   "mimetype": "text/x-python",
   "name": "python",
   "nbconvert_exporter": "python",
   "pygments_lexer": "ipython3",
   "version": "3.12.4"
  }
 },
 "nbformat": 4,
 "nbformat_minor": 5
}
