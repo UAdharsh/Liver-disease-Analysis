{
 "cells": [
  {
   "cell_type": "code",
   "execution_count": 1,
   "id": "e39c4380-f64a-4129-bce3-88ce65b98432",
   "metadata": {},
   "outputs": [
    {
     "name": "stdout",
     "output_type": "stream",
     "text": [
      "[[ 7 23]\n",
      " [15 70]]\n",
      "              precision    recall  f1-score   support\n",
      "\n",
      "           0       0.32      0.23      0.27        30\n",
      "           1       0.75      0.82      0.79        85\n",
      "\n",
      "    accuracy                           0.67       115\n",
      "   macro avg       0.54      0.53      0.53       115\n",
      "weighted avg       0.64      0.67      0.65       115\n",
      "\n",
      "     Feature  Importance\n",
      "4    ALKPHOS    0.142484\n",
      "6       SGOT    0.141762\n",
      "0        AGE    0.139777\n",
      "5       SGPT    0.125022\n",
      "2         TB    0.097638\n",
      "7         TP    0.087892\n",
      "8        ALB    0.086558\n",
      "9  A/G RATIO    0.079805\n",
      "3         DB    0.079717\n",
      "1     GENDER    0.019346\n"
     ]
    }
   ],
   "source": [
    "import pandas as pd\n",
    "from sklearn.model_selection import train_test_split\n",
    "from sklearn.ensemble import RandomForestClassifier\n",
    "from sklearn.metrics import classification_report, confusion_matrix\n",
    "\n",
    "# Load dataset\n",
    "data = pd.read_csv('C:/Users/adhar/Jupiter notebook/Python/Data Analsis/Data-analysis/PCA/ilpd_data.csv')\n",
    "\n",
    "# Preprocess data (convert categorical variables, handle missing values)\n",
    "data['GENDER'] = data['GENDER'].map({'Male': 0, 'Female': 1})\n",
    "data.fillna(data.mean(), inplace=True)\n",
    "\n",
    "# Separate features and target variable\n",
    "X = data.drop(columns=['SELECTOR'])\n",
    "y = data['SELECTOR'].map({1: 1, 2: 0})  # Convert to binary classification\n",
    "\n",
    "# Split data into training and testing sets\n",
    "X_train, X_test, y_train, y_test = train_test_split(X, y, test_size=0.2, random_state=42)\n",
    "\n",
    "# Train Random Forest model\n",
    "rf_model = RandomForestClassifier(n_estimators=100, random_state=42)\n",
    "rf_model.fit(X_train, y_train)\n",
    "\n",
    "# Make predictions\n",
    "y_pred = rf_model.predict(X_test)\n",
    "\n",
    "# Evaluate model performance\n",
    "print(confusion_matrix(y_test, y_pred))\n",
    "print(classification_report(y_test, y_pred))\n",
    "\n",
    "# Feature importance\n",
    "importances = rf_model.feature_importances_\n",
    "feature_names = X.columns\n",
    "importance_df = pd.DataFrame({'Feature': feature_names, 'Importance': importances})\n",
    "importance_df = importance_df.sort_values(by='Importance', ascending=False)\n",
    "print(importance_df)\n"
   ]
  },
  {
   "cell_type": "code",
   "execution_count": null,
   "id": "791059fd-769f-4dc7-8aef-6410b41e5f30",
   "metadata": {},
   "outputs": [],
   "source": []
  }
 ],
 "metadata": {
  "kernelspec": {
   "display_name": "Python 3 (ipykernel)",
   "language": "python",
   "name": "python3"
  },
  "language_info": {
   "codemirror_mode": {
    "name": "ipython",
    "version": 3
   },
   "file_extension": ".py",
   "mimetype": "text/x-python",
   "name": "python",
   "nbconvert_exporter": "python",
   "pygments_lexer": "ipython3",
   "version": "3.12.4"
  }
 },
 "nbformat": 4,
 "nbformat_minor": 5
}
